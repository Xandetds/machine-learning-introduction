{
 "cells": [
  {
   "cell_type": "code",
   "execution_count": 2,
   "id": "21e4a23c-41df-4a0e-86a3-a3e607dcd0f5",
   "metadata": {},
   "outputs": [],
   "source": [
    "import numpy as np"
   ]
  },
  {
   "cell_type": "code",
   "execution_count": 13,
   "id": "bc002491-80c3-42d9-af1c-75c5b74facf7",
   "metadata": {},
   "outputs": [],
   "source": [
    "X = [0, 1, 2, 3]\n",
    "y = [1, 3, 3, 5]"
   ]
  },
  {
   "cell_type": "code",
   "execution_count": 16,
   "id": "ddca0efa-6f3b-4c22-ac5c-0d00004d596c",
   "metadata": {},
   "outputs": [],
   "source": [
    "mean_X = (sum(X)/len(X))\n",
    "mean_y = (sum(y)/len(y))"
   ]
  },
  {
   "cell_type": "code",
   "execution_count": 73,
   "id": "c428aa24-5510-4ff3-b253-3c58d26ead5e",
   "metadata": {},
   "outputs": [
    {
     "name": "stdout",
     "output_type": "stream",
     "text": [
      "6.0 5.0\n"
     ]
    }
   ],
   "source": [
    "covariation_Xy = sum((xx - mean_X)*(yy - mean_y) for xx, yy in zip(X, y))\n",
    "covariation_XX = sum((xx - mean_X)**2 for xx in X)\n",
    "\n",
    "print(covariation_Xy, covariation_XX)"
   ]
  },
  {
   "cell_type": "code",
   "execution_count": 66,
   "id": "50627b02-cf0e-4598-a442-f239762c4ed6",
   "metadata": {},
   "outputs": [
    {
     "name": "stdout",
     "output_type": "stream",
     "text": [
      "intercept = 1.20, \n",
      "coef = 1.20\n",
      "predictions =  [1.2, 2.4, 3.6, 4.8]\n",
      "MSE = 0.200\n"
     ]
    }
   ],
   "source": [
    "coef_ = covariation_Xy/covariation_XX\n",
    "\n",
    "intercept_ = mean_y - coef_*mean_X\n",
    "print(f\"intercept = {intercept_:.2f}, \\ncoef = {coef_:.2f}\")\n",
    "\n",
    "y_hat = [intercept_ + coef_*X[i] for i in range(len(X))]\n",
    "print(\"predictions = \", [round(v, 2) for v in y_hat])   \n",
    "\n",
    "mse = sum((y[i] - y_hat[i])**2 for i in range(len(X))) / len(X)\n",
    "print(f\"MSE = {mse:.3f}\")    "
   ]
  },
  {
   "cell_type": "code",
   "execution_count": null,
   "id": "70f88ca6-180a-4f66-bae8-eb9e5aa02199",
   "metadata": {},
   "outputs": [
    {
     "name": "stdout",
     "output_type": "stream",
     "text": [
      "models error² sum = 0.80  total variation = 8.0\n",
      "Model accuracy = 90.0%\n"
     ]
    }
   ],
   "source": [
    "SSE = len(X)*mse\n",
    "SST = sum((y[i] - mean_y)**2 for i in range(len(X)))\n",
    "print(f\"models error² sum = {SSE:.2f}  total variation = {SST}\")\n",
    "\n",
    "r2 = 1 - SSE/SST\n",
    "print(f\"Model accuracy = {r2 * 100}%\")"
   ]
  }
 ],
 "metadata": {
  "kernelspec": {
   "display_name": "Python 3 (ipykernel)",
   "language": "python",
   "name": "python3"
  },
  "language_info": {
   "codemirror_mode": {
    "name": "ipython",
    "version": 3
   },
   "file_extension": ".py",
   "mimetype": "text/x-python",
   "name": "python",
   "nbconvert_exporter": "python",
   "pygments_lexer": "ipython3",
   "version": "3.13.7"
  }
 },
 "nbformat": 4,
 "nbformat_minor": 5
}
