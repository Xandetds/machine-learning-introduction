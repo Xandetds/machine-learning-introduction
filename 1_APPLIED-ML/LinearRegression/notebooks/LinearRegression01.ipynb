{
 "cells": [
  {
   "cell_type": "code",
   "execution_count": 2,
   "id": "e1f9239e-b78c-4683-acaf-a3a174231b18",
   "metadata": {},
   "outputs": [],
   "source": [
    "import numpy as np"
   ]
  },
  {
   "cell_type": "code",
   "execution_count": 12,
   "id": "bb3b1b75-f5a2-43d8-b860-133b63885f9d",
   "metadata": {},
   "outputs": [],
   "source": [
    "class LinearRegression:\n",
    "    def __init__(self):\n",
    "        self.intercept_ = None  \n",
    "        self.coef_ = None       \n",
    "\n",
    "    def fit(self, X, y):\n",
    "        Xb = np.c_[np.ones((X.shape[0], 1)), X] #creates the matrix Xb = [1X]\n",
    "\n",
    "        \n",
    "        theta = np.linalg.pinv(Xb).dot(y)  #numpy calculates the pseudoinverse using linalg.pinv, which gives us the intercept_ (b) and coef_ (w)\n",
    "        self.intercept_ = theta[0]\n",
    "        self.coef_ = theta[1:]\n",
    "        print(model.intercept_)\n",
    "        print(model.coef_)\n",
    "\n",
    "    def predict(self, X):\n",
    "        return self.intercept_ + X.dot(self.coef_) #calculates the prediction formula using python methods\n",
    "        print(model.predict(X))\n",
    "\n"
   ]
  },
  {
   "cell_type": "code",
   "execution_count": 13,
   "id": "74178b8e-19f7-4781-9d53-37dd9dfdc860",
   "metadata": {},
   "outputs": [],
   "source": [
    "X = np.array([[0], [1], [2], [3]])\n",
    "y = np.array([1, 3, 3, 5])"
   ]
  },
  {
   "cell_type": "code",
   "execution_count": 11,
   "id": "be8e4a09-6c15-43b0-9331-33d0feffbb83",
   "metadata": {},
   "outputs": [
    {
     "name": "stdout",
     "output_type": "stream",
     "text": [
      "1.2\n",
      "[1.2]\n",
      "[1.2 2.4 3.6 4.8]\n"
     ]
    }
   ],
   "source": [
    "\n",
    "model = LinearRegression()\n",
    "model.fit(X, y)\n",
    "y_pred = model.predict(X)\n",
    "print(y_pred)"
   ]
  },
  {
   "cell_type": "code",
   "execution_count": 9,
   "id": "afb1b772-40c8-424b-8999-adb049d78684",
   "metadata": {},
   "outputs": [
    {
     "name": "stdout",
     "output_type": "stream",
     "text": [
      "0.19999999999999998\n"
     ]
    }
   ],
   "source": [
    "errors = y - y_pred #the y array substracs the y_pred array, element by element\n",
    "mse = (errors**2).mean()\n",
    "print(mse)"
   ]
  },
  {
   "cell_type": "code",
   "execution_count": 15,
   "id": "d8403b30-56cc-49f9-82ca-8f9fed92bebe",
   "metadata": {},
   "outputs": [
    {
     "name": "stdout",
     "output_type": "stream",
     "text": [
      "0.9\n",
      "90.0 %\n"
     ]
    }
   ],
   "source": [
    "model_errors = ((y - y_pred)**2).sum()  \n",
    "total_variation = ((y - y.mean())**2).sum() \n",
    "r2 = 1 - (model_errors / total_variation)  #calculates the determination coeficient, measures how much of the real y variation our model can explain\n",
    "print(r2)\n",
    "print(r2 * 100, \"%\")"
   ]
  },
  {
   "cell_type": "code",
   "execution_count": 19,
   "id": "cfe73d49-d96e-4f06-ab21-227ad1d0dfb5",
   "metadata": {},
   "outputs": [
    {
     "name": "stdout",
     "output_type": "stream",
     "text": [
      "MSE: 0.19999999999999998\n",
      "R²: 0.9\n"
     ]
    }
   ],
   "source": [
    "#Saves math results as results.txt\n",
    "with open(\"../assets/results.txt\", \"w\") as f:\n",
    "    f.write(f\"MSE: {mse:.3f}\\n\")\n",
    "    f.write(f\"R²: {r2:.3f}\\n\")\n",
    "\n",
    "print(\"MSE:\", mse)\n",
    "print(\"R²:\", r2)\n"
   ]
  },
  {
   "cell_type": "code",
   "execution_count": 22,
   "id": "9a8f5966-8c57-40ba-a232-8702fdc7e161",
   "metadata": {},
   "outputs": [
    {
     "data": {
      "image/png": "[encoded data removed]",
      "text/plain": [
       "<Figure size 700x500 with 1 Axes>"
      ]
     },
     "metadata": {},
     "output_type": "display_data"
    }
   ],
   "source": [
    "#Creates Linear Regression fit plot and saves it as regression_plot.png\n",
    "import matplotlib.pyplot as plt\n",
    "\n",
    "plt.figure(figsize=(7,5))\n",
    "plt.scatter(X, y, color=\"blue\", label=\"Real\")\n",
    "plt.plot(X, y_pred, color=\"red\", linewidth=2, label=\"Predicted\")\n",
    "plt.title(\"Linear Regression Fit\")\n",
    "plt.xlabel(\"X\")\n",
    "plt.ylabel(\"y\")\n",
    "plt.legend()\n",
    "plt.grid(True)\n",
    "plt.tight_layout()\n",
    "plt.savefig(\"../assets/regression_plot.png\", dpi=300)\n",
    "plt.show()\n"
   ]
  }
 ],
 "metadata": {
  "kernelspec": {
   "display_name": "Python 3 (ipykernel)",
   "language": "python",
   "name": "python3"
  },
  "language_info": {
   "codemirror_mode": {
    "name": "ipython",
    "version": 3
   },
   "file_extension": ".py",
   "mimetype": "text/x-python",
   "name": "python",
   "nbconvert_exporter": "python",
   "pygments_lexer": "ipython3",
   "version": "3.13.7"
  }
 },
 "nbformat": 4,
 "nbformat_minor": 5
}
