{
 "cells": [
  {
   "cell_type": "code",
   "execution_count": null,
   "id": "4e69cd8e-67b9-454e-8231-29ed55f851df",
   "metadata": {},
   "outputs": [],
   "source": [
    "## Iris dataset — First Application (Chapter 1)\n",
    "\n",
    "- **Goal:** build a simple supervised learning model to predict the **species** of an iris flower.\n",
    "- **Features (X):** numeric measurements in centimeters:\n",
    "  - sepal length, sepal width, petal length, petal width\n",
    "- **Target (y):** the species (**label**): `setosa`, `versicolor`, `virginica`\n",
    "- **Problem type:** 3-class **classification**.\n",
    "- **Why this dataset?** Small, clean, and well-known; great for first experiments.\n",
    "\n",
    "> Reference: *Introduction to Machine Learning with Python* (Müller & Guido), O’Reilly.\n"
   ]
  },
  {
   "cell_type": "code",
   "execution_count": 6,
   "id": "f2b7e6ca-0659-41e3-9270-dbc1763f0d94",
   "metadata": {},
   "outputs": [
    {
     "name": "stdout",
     "output_type": "stream",
     "text": [
      "Keys of iris_dataset:\n",
      " dict_keys(['data', 'target', 'frame', 'target_names', 'DESCR', 'feature_names', 'filename', 'data_module'])\n"
     ]
    }
   ],
   "source": [
    "import numpy as np\n",
    "import matplotlib.pyplot as plt\n",
    "import pandas as pd\n",
    "import mglearn\n",
    "from IPython.display import display\n",
    "from sklearn.datasets import load_iris\n",
    "iris_dataset = load_iris()\n",
    "\n",
    "print(\"Keys of iris_dataset:\\n\", iris_dataset.keys())"
   ]
  },
  {
   "cell_type": "code",
   "execution_count": 23,
   "id": "ba519742-6647-4393-a015-f3feb0958ac2",
   "metadata": {
    "scrolled": true
   },
   "outputs": [
    {
     "name": "stdout",
     "output_type": "stream",
     "text": [
      ".. _iris_dataset:\n",
      "\n",
      "Iris plants dataset\n",
      "--------------------\n",
      "\n",
      "**Data Set Characteristics:**\n",
      "\n",
      ":Number of Instances: 150 (50 in each of three classes)\n",
      ":Number of Attributes: 4 numeric, predictive \n",
      "...\n",
      "\n",
      "Target names: ['setosa' 'versicolor' 'virginica']\n",
      "\n",
      "Type of data: <class 'numpy.ndarray'>\n",
      "\n",
      "Shape of data: (150, 4)\n",
      "\n",
      "Type of target: <class 'numpy.ndarray'>\n",
      "\n",
      "Shape of target: (150,)\n",
      "\n",
      "First 5 rows of data:\n",
      " [[5.1 3.5 1.4 0.2]\n",
      " [4.9 3.  1.4 0.2]\n",
      " [4.7 3.2 1.3 0.2]\n",
      " [4.6 3.1 1.5 0.2]\n",
      " [5.  3.6 1.4 0.2]]\n",
      "\n",
      "Target:\n",
      " [0 0 0 0 0 0 0 0 0 0 0 0 0 0 0 0 0 0 0 0 0 0 0 0 0 0 0 0 0 0 0 0 0 0 0 0 0\n",
      " 0 0 0 0 0 0 0 0 0 0 0 0 0 1 1 1 1 1 1 1 1 1 1 1 1 1 1 1 1 1 1 1 1 1 1 1 1\n",
      " 1 1 1 1 1 1 1 1 1 1 1 1 1 1 1 1 1 1 1 1 1 1 1 1 1 1 2 2 2 2 2 2 2 2 2 2 2\n",
      " 2 2 2 2 2 2 2 2 2 2 2 2 2 2 2 2 2 2 2 2 2 2 2 2 2 2 2 2 2 2 2 2 2 2 2 2 2\n",
      " 2 2]\n"
     ]
    }
   ],
   "source": [
    "# Seeing data\n",
    "print(iris_dataset[\"DESCR\"][:193] + \"\\n...\")\n",
    "print(\"\\nTarget names:\", iris_dataset[\"target_names\"])\n",
    "print(\"\\nType of data:\", type(iris_dataset[\"data\"]))\n",
    "print(\"\\nShape of data:\", iris_dataset[\"data\"].shape)\n",
    "print(\"\\nType of target:\", type(iris_dataset[\"target\"]))\n",
    "print(\"\\nShape of target:\", iris_dataset[\"target\"].shape)\n",
    "print(\"\\nFirst 5 rows of data:\\n\", iris_dataset[\"data\"][:5])\n",
    "print(\"\\nTarget:\\n\", iris_dataset[\"target\"])"
   ]
  },
  {
   "cell_type": "code",
   "execution_count": null,
   "id": "c608e1d7-4459-49e5-b483-01289b2a6cd2",
   "metadata": {},
   "outputs": [],
   "source": []
  }
 ],
 "metadata": {
  "kernelspec": {
   "display_name": "Python 3 (ipykernel)",
   "language": "python",
   "name": "python3"
  },
  "language_info": {
   "codemirror_mode": {
    "name": "ipython",
    "version": 3
   },
   "file_extension": ".py",
   "mimetype": "text/x-python",
   "name": "python",
   "nbconvert_exporter": "python",
   "pygments_lexer": "ipython3",
   "version": "3.12.10"
  }
 },
 "nbformat": 4,
 "nbformat_minor": 5
}
